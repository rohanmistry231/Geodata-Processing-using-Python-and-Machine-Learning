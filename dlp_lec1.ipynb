{
  "cells": [
    {
      "cell_type": "markdown",
      "metadata": {
        "id": "dn67mj6lQKWS"
      },
      "source": [
        "# **Python Basics**\n",
        "**Values**\n",
        "\n",
        "*   A value is the fundamental thing that a program manipulates\n",
        "*   Values can be ‘Hello Python’, 1 , True\n",
        "Values have types."
      ]
    },
    {
      "cell_type": "markdown",
      "metadata": {
        "id": "6Lz9f6OkSWgP"
      },
      "source": [
        "# **Variable**\n",
        "1.   One of the most basic and powerful concepts is\n",
        "that of a variable.\n",
        "2.   A variable assigns a name to a value.\n",
        "Variables are nothing more than reserved memory locations that store values.\n",
        "3. Python variables does not need explicit declaration to reserve memory.\n",
        "4.Unlike C/C++ and Java, variables can change types\n"
      ]
    },
    {
      "cell_type": "code",
      "execution_count": null,
      "metadata": {
        "id": "HAFYqNsLRYBg"
      },
      "outputs": [],
      "source": [
        "message = 'Hello Python!'"
      ]
    },
    {
      "cell_type": "code",
      "execution_count": null,
      "metadata": {
        "id": "ASASxPnyoAaX"
      },
      "outputs": [],
      "source": [
        "type(message)"
      ]
    },
    {
      "cell_type": "markdown",
      "metadata": {
        "id": "L6nwLBHeoAaX"
      },
      "source": [
        "# **Data Types**\n",
        "\n",
        "\n",
        "### 1.   Numeric Types\n",
        "\n",
        "\n",
        "*   Integer Types: 92, 12, 0, 1\n",
        "*   Floats (Floating point numbers): 3.1415\n",
        "*   Complex Numbers: a + b*i (composed of real and imaginary component, both of which are floats a + b*i)\n",
        "*   Booleans: True/False are a subtype of integers (0 is false, 1 is true)\n",
        "\n",
        "2.   Strings\n",
        "*   ‘Hello Python’\n",
        "*  'India'\n",
        "\n",
        "3.  Sequence types:\n",
        "\n",
        "\n",
        "*   Lists : [1,2,3,4,5]\n",
        "*   Tuples: (1, 2)\n",
        "*   Ranges:"
      ]
    },
    {
      "cell_type": "code",
      "execution_count": null,
      "metadata": {
        "id": "iFWDamvdoAaX"
      },
      "outputs": [],
      "source": [
        "x = 1         # assign variable x the value 1\n",
        "y = x + 5     # assign variable y the value of x plus 5\n",
        "z = y         # assign variable z the value of y\n",
        "a = 10.5      # assign variable a the value of 10.5 float\n",
        "b = True      # assign variable b the value True boolean\n",
        "x = 10.5\n",
        "\n",
        "print(type(x))"
      ]
    },
    {
      "cell_type": "code",
      "execution_count": null,
      "metadata": {
        "id": "JrjW38uAoAaX"
      },
      "outputs": [],
      "source": [
        "\n",
        "x = 'Hello'\n",
        "print(type(x))"
      ]
    },
    {
      "cell_type": "code",
      "execution_count": null,
      "metadata": {
        "id": "DaAoxBQuoAaY"
      },
      "outputs": [],
      "source": [
        "name = 'Python'\n",
        "\n",
        "name_1 = 'Python1'"
      ]
    },
    {
      "cell_type": "code",
      "execution_count": null,
      "metadata": {
        "id": "kTGy8wWXoAaY"
      },
      "outputs": [],
      "source": [
        "1Name = 'Python'"
      ]
    },
    {
      "cell_type": "code",
      "execution_count": null,
      "metadata": {
        "id": "F_FMSU1BoAaY"
      },
      "outputs": [],
      "source": [
        "def  = 10\n"
      ]
    },
    {
      "cell_type": "code",
      "execution_count": null,
      "metadata": {
        "id": "wgarD7RfoAaY"
      },
      "outputs": [],
      "source": [
        "x = 1       # integer\n",
        "x = 1.0     # decimal (floating point)\n",
        "x = 10\n",
        "print(type(x)) # outputs: <class 'int'>\n",
        "\n"
      ]
    },
    {
      "cell_type": "code",
      "execution_count": null,
      "metadata": {
        "id": "6Ev0mP7NoAaY"
      },
      "outputs": [],
      "source": [
        "x = 10.0\n",
        "print(type(x)) # outputs: <class 'float'>\n",
        "x = True\n",
        "\n",
        "print(type(x))\n",
        "\n",
        "y = False\n",
        "\n",
        "print(type(y))\n"
      ]
    },
    {
      "cell_type": "code",
      "execution_count": null,
      "metadata": {
        "id": "OR3s41_hoAaY"
      },
      "outputs": [],
      "source": [
        "x = 'This is a string'\n",
        "print(x) # outputs: This is a string\n",
        "print(type(x)) # outputs: <class 'str'>\n",
        "y = \"This is also a string\"\n",
        "x = 'Hello' + ' ' + 'World!'\n",
        "print(x) # outputs: Hello World!\n"
      ]
    },
    {
      "cell_type": "code",
      "execution_count": null,
      "metadata": {
        "id": "bGRRKWN5oAaZ"
      },
      "outputs": [],
      "source": [
        "planets_in_solar_system = 8 # int, pluto used to be the 9th planet, but is too small\n",
        "distance_to_alpha_centauri = 4.367 # float, lightyears\n",
        "can_liftoff = True\n",
        "shuttle_landed_on_the_moon = \"Apollo 11\" #string"
      ]
    },
    {
      "cell_type": "markdown",
      "metadata": {
        "id": "KBzzvVy7SUsn"
      },
      "source": [
        "# **Modules**\n",
        "\n",
        "\n",
        "1.   module is a file containing Python definitions and statements\n",
        "2.   not all functionality available comes automatically when starting Python\n",
        "1.   extra functionality can be added by importing modules\n",
        "1.   objects in the module can be accessed  by prefixing them with the module name\n"
      ]
    },
    {
      "cell_type": "code",
      "execution_count": null,
      "metadata": {
        "id": "8NClhVnOUXB4"
      },
      "outputs": [],
      "source": [
        "import math"
      ]
    },
    {
      "cell_type": "code",
      "execution_count": null,
      "metadata": {
        "id": "VYYszojTUcja"
      },
      "outputs": [],
      "source": [
        "math.pow(2, 5)"
      ]
    },
    {
      "cell_type": "code",
      "execution_count": null,
      "metadata": {
        "id": "dw1CrEkKUhsQ"
      },
      "outputs": [],
      "source": [
        "import random"
      ]
    },
    {
      "cell_type": "code",
      "execution_count": null,
      "metadata": {
        "id": "nv8eGoDlUkU0"
      },
      "outputs": [],
      "source": [
        "random.randint(1, 70)"
      ]
    },
    {
      "cell_type": "code",
      "execution_count": null,
      "metadata": {
        "id": "GRZ16C9EoAaZ"
      },
      "outputs": [],
      "source": [
        "from pathlib import Path"
      ]
    },
    {
      "cell_type": "markdown",
      "metadata": {
        "id": "hPbJ2ARkVG5s"
      },
      "source": [
        "Comments Start with a `#`"
      ]
    },
    {
      "cell_type": "code",
      "execution_count": null,
      "metadata": {
        "id": "EPgCjpj7VSTW"
      },
      "outputs": [],
      "source": [
        "# This is a comment"
      ]
    },
    {
      "cell_type": "markdown",
      "metadata": {
        "id": "WtM-m8QYgxdo"
      },
      "source": [
        "**Putting All things together**\n",
        "\n",
        "---\n",
        "\n",
        "\n",
        "Now we will write a program to calculate Simple Intrest"
      ]
    },
    {
      "cell_type": "code",
      "execution_count": null,
      "metadata": {
        "id": "RcwbGI4VgyqL"
      },
      "outputs": [],
      "source": [
        "rate = 10"
      ]
    },
    {
      "cell_type": "code",
      "execution_count": null,
      "metadata": {
        "id": "rV3JEeWOg-jS"
      },
      "outputs": [],
      "source": [
        "principle = 1000"
      ]
    },
    {
      "cell_type": "code",
      "execution_count": null,
      "metadata": {
        "id": "JstjzE2Mg-l6"
      },
      "outputs": [],
      "source": [
        "time = 3"
      ]
    },
    {
      "cell_type": "code",
      "execution_count": null,
      "metadata": {
        "id": "6vjVhnsqgzV2"
      },
      "outputs": [],
      "source": [
        "intrest = (rate * principle * time)/100"
      ]
    },
    {
      "cell_type": "code",
      "execution_count": null,
      "metadata": {
        "id": "LO_i2T1hgzdy"
      },
      "outputs": [],
      "source": [
        "print('Intrest is ', intrest)"
      ]
    },
    {
      "cell_type": "markdown",
      "metadata": {
        "id": "HVUpDfwOoAaa"
      },
      "source": [
        "## Operations"
      ]
    },
    {
      "cell_type": "code",
      "execution_count": null,
      "metadata": {
        "id": "0WRj32WAoAaa"
      },
      "outputs": [],
      "source": [
        "answer = 30 + 12\n",
        "print(answer)\n",
        "\n",
        "# Output: 42"
      ]
    },
    {
      "cell_type": "code",
      "execution_count": null,
      "metadata": {
        "id": "r2qkZd4ooAaa"
      },
      "outputs": [],
      "source": [
        "difference = 30 - 12\n",
        "print(difference)"
      ]
    },
    {
      "cell_type": "code",
      "execution_count": null,
      "metadata": {
        "id": "E2o3RDnEoAab"
      },
      "outputs": [],
      "source": [
        "product = 30 * 12\n",
        "print(product)"
      ]
    },
    {
      "cell_type": "code",
      "execution_count": null,
      "metadata": {
        "id": "qUNZZgL1oAab"
      },
      "outputs": [],
      "source": [
        "quotient = 30 / 12\n",
        "print(quotient)"
      ]
    },
    {
      "cell_type": "code",
      "execution_count": null,
      "metadata": {
        "id": "WGxPF3aboAab"
      },
      "outputs": [],
      "source": [
        "seconds = 1042\n",
        "display_minutes = 1042 // 60\n",
        "print(display_minutes)\n"
      ]
    },
    {
      "cell_type": "code",
      "execution_count": null,
      "metadata": {
        "id": "T88usp2foAab"
      },
      "outputs": [],
      "source": [
        "seconds = 1042\n",
        "display_minutes = 1042 // 60\n",
        "display_seconds = 1042 % 60\n",
        "\n",
        "print(display_minutes)\n",
        "print(display_seconds)\n",
        "\n"
      ]
    },
    {
      "cell_type": "code",
      "execution_count": null,
      "metadata": {
        "id": "VNEC4UsGoAab"
      },
      "outputs": [],
      "source": [
        "endVelocity = 60\n",
        "startVelocity = 0\n",
        "acceleration = 9.8\n",
        "\n",
        "time = (endVelocity - startVelocity) / acceleration\n",
        "print(\"Time to reach desired velocity = \", time)"
      ]
    },
    {
      "cell_type": "markdown",
      "metadata": {
        "id": "rrx9xpuzXK7q"
      },
      "source": [
        "# **Indentation**\n",
        "1.  In Python, blocks of code are defined using indentation\n",
        "1.  The indentation within the block needs to be consistent\n",
        "1.  The first line with less indentation is outside of the block\n",
        "1.  The first line with more indentation starts a nested block\n",
        "1.  Often a colon appears at the start of a new block"
      ]
    },
    {
      "cell_type": "markdown",
      "metadata": {
        "id": "IKfod3pZoAab"
      },
      "source": [
        "## Conditionals"
      ]
    },
    {
      "cell_type": "code",
      "execution_count": null,
      "metadata": {
        "id": "d4PWpHHHXDhK"
      },
      "outputs": [],
      "source": [
        "x = 12\n",
        "if x<10:\n",
        "    print('x is less than 10')\n",
        "    print('H## Conditional Statements\n"
      ]
    },
    {
      "cell_type": "code",
      "execution_count": null,
      "metadata": {
        "id": "efmujxw2oAac"
      },
      "outputs": [],
      "source": [
        "a = 97\n",
        "b = 55\n",
        "\n",
        "# test expression\n",
        "if a < b:\n",
        "    # statement to be run\n",
        "    print(b)\n"
      ]
    },
    {
      "cell_type": "code",
      "execution_count": null,
      "metadata": {
        "id": "CebNw2OZoAac"
      },
      "outputs": [],
      "source": [
        "a = 24\n",
        "b = 44\n",
        "\n",
        "if a <= 0:\n",
        "    print(a)\n",
        "print(b)\n"
      ]
    },
    {
      "cell_type": "code",
      "execution_count": null,
      "metadata": {
        "id": "IngxO5NnoAac"
      },
      "outputs": [],
      "source": [
        "a = 93\n",
        "b = 27\n",
        "if a >= b:\n",
        "    print(a)\n",
        "else:\n",
        "    print(b)\n"
      ]
    },
    {
      "cell_type": "code",
      "execution_count": null,
      "metadata": {
        "id": "x9k4Hiz6oAac"
      },
      "outputs": [],
      "source": [
        "a = 93\n",
        "b = 27\n",
        "if a >= b:\n",
        "    print(\"a is greater than or equal to b\")\n",
        "elif a == b:\n",
        "    print(\"a is equal to b\")\n"
      ]
    },
    {
      "cell_type": "code",
      "execution_count": null,
      "metadata": {
        "id": "eDFHst6UoAad"
      },
      "outputs": [],
      "source": [
        "a = 93\n",
        "b = 27\n",
        "if a > b:\n",
        "    print(\"a is greater than b\")\n",
        "elif a < b:\n",
        "    print(\"a is less than b\")\n",
        "else:\n",
        "    print (\"a is equal to b\")\n"
      ]
    },
    {
      "cell_type": "code",
      "execution_count": null,
      "metadata": {
        "id": "p3F0LssgoAad"
      },
      "outputs": [],
      "source": [
        "a = 16\n",
        "b = 25\n",
        "c = 27\n",
        "if a > b:\n",
        "    if b > c:\n",
        "        print (\"a is greater than b and b is greater than c\")\n",
        "    else:\n",
        "        print (\"a is greater than b and less than c\")\n",
        "elif a == b:\n",
        "    print (\"a is equal to b\")\n",
        "else:\n",
        "    print (\"a is less than b\")\n"
      ]
    },
    {
      "cell_type": "markdown",
      "metadata": {
        "id": "D8pibWMWoAad"
      },
      "source": [
        "## `and` and `or` operators"
      ]
    },
    {
      "cell_type": "code",
      "execution_count": null,
      "metadata": {
        "id": "eWVJGPUFoAad"
      },
      "outputs": [],
      "source": [
        "a = 23\n",
        "b = 34\n",
        "if a == 34 or b == 34:\n",
        "    print(a + b)\n"
      ]
    },
    {
      "cell_type": "code",
      "execution_count": null,
      "metadata": {
        "id": "WLdtZTdFoAad"
      },
      "outputs": [],
      "source": [
        "a = 23\n",
        "b = 34\n",
        "if a == 34 and b == 34:\n",
        "    print (a + b)"
      ]
    },
    {
      "cell_type": "markdown",
      "metadata": {
        "id": "M8HNmISRXyw_"
      },
      "source": [
        "# **Strings**\n",
        "\n",
        "*   Strings are text values like ‘Hello Anaconda’\n",
        "*   Strings can be enclosed in single quote ‘ ..’ or double quotes “…”\n",
        "\n"
      ]
    },
    {
      "cell_type": "code",
      "execution_count": null,
      "metadata": {
        "id": "gADe2iCOoAad"
      },
      "outputs": [],
      "source": [
        "moon_radius = \"The Moon has a radius of 1,080 miles\""
      ]
    },
    {
      "cell_type": "code",
      "execution_count": null,
      "metadata": {
        "id": "Ax0fCQWuoAad"
      },
      "outputs": [],
      "source": [
        "print(moon_radius)"
      ]
    },
    {
      "cell_type": "code",
      "execution_count": null,
      "metadata": {
        "id": "k0LDBUdUoAad"
      },
      "outputs": [],
      "source": [
        "fact = 'The \"near side\" is the part of the Moon that faces the Earth'"
      ]
    },
    {
      "cell_type": "code",
      "execution_count": null,
      "metadata": {
        "id": "oKC6DUrcoAae"
      },
      "outputs": [],
      "source": [
        "print(fact)"
      ]
    },
    {
      "cell_type": "code",
      "execution_count": null,
      "metadata": {
        "id": "78bHf6ICoAae"
      },
      "outputs": [],
      "source": [
        " multiline = \"\"\"Facts about the Moon:\n",
        "             There is no atmosphere.\n",
        "             There is no sound.\"\"\""
      ]
    },
    {
      "cell_type": "code",
      "execution_count": null,
      "metadata": {
        "id": "PzSKtQnSoAae"
      },
      "outputs": [],
      "source": [
        "print(multiline)"
      ]
    },
    {
      "cell_type": "code",
      "execution_count": null,
      "metadata": {
        "id": "ac3If6K8oAae"
      },
      "outputs": [],
      "source": [
        "\"Moon\" in \"This text will describe facts and challenges with space travel\""
      ]
    },
    {
      "cell_type": "code",
      "execution_count": null,
      "metadata": {
        "id": "eVQfTmzOoAae"
      },
      "outputs": [],
      "source": [
        "\"Moon\" in \"This text will describe facts about the Moon\""
      ]
    },
    {
      "cell_type": "code",
      "execution_count": null,
      "metadata": {
        "id": "klQcAZBsoAae"
      },
      "outputs": [],
      "source": [
        "temperatures = \"\"\"Saturn has a daytime temperature of -170 degrees Celsius,\n",
        "                  while Mars has -28 Celsius.\"\"\""
      ]
    },
    {
      "cell_type": "code",
      "execution_count": null,
      "metadata": {
        "id": "4K1YV9caoAae"
      },
      "outputs": [],
      "source": [
        "temperatures.find(\"Moon\")"
      ]
    },
    {
      "cell_type": "code",
      "execution_count": null,
      "metadata": {
        "id": "D8tC38M7oAaf"
      },
      "outputs": [],
      "source": [
        "temperatures.find(\"Mars\")"
      ]
    },
    {
      "cell_type": "code",
      "execution_count": null,
      "metadata": {
        "id": "4gpVlGK6oAaf"
      },
      "outputs": [],
      "source": [
        "temperatures.count(\"Mars\")"
      ]
    },
    {
      "cell_type": "code",
      "execution_count": null,
      "metadata": {
        "id": "Fkyg44apoAaf"
      },
      "outputs": [],
      "source": [
        "temperatures.count(\"Moon\")"
      ]
    },
    {
      "cell_type": "code",
      "execution_count": null,
      "metadata": {
        "id": "v9MR_kNRoAaf"
      },
      "outputs": [],
      "source": [
        "\"The Moon And The Earth\".lower()"
      ]
    },
    {
      "cell_type": "markdown",
      "metadata": {
        "id": "IhwgUPTca3ul"
      },
      "source": [
        "Strings can be *indexed* (subscripted), with the first character having index 0."
      ]
    },
    {
      "cell_type": "code",
      "execution_count": null,
      "metadata": {
        "id": "b75FJ4YzbCng"
      },
      "outputs": [],
      "source": [
        " word = 'Python'"
      ]
    },
    {
      "cell_type": "code",
      "execution_count": null,
      "metadata": {
        "id": "URMkod3zbECa"
      },
      "outputs": [],
      "source": [
        "word[0]"
      ]
    },
    {
      "cell_type": "code",
      "execution_count": null,
      "metadata": {
        "id": "yMkBTqHObMoH"
      },
      "outputs": [],
      "source": [
        "word[5]"
      ]
    },
    {
      "cell_type": "markdown",
      "metadata": {
        "id": "hW2FQjJ7bPwF"
      },
      "source": [
        "indices may also be negative numbers, to start counting from the right."
      ]
    },
    {
      "cell_type": "code",
      "execution_count": null,
      "metadata": {
        "id": "PAXMPH3MbZd5"
      },
      "outputs": [],
      "source": [
        "word[-1]  # last character"
      ]
    },
    {
      "cell_type": "code",
      "execution_count": null,
      "metadata": {
        "id": "P4EsGGAxbcmB"
      },
      "outputs": [],
      "source": [
        "word[-2]  # second-last character"
      ]
    },
    {
      "cell_type": "markdown",
      "metadata": {
        "id": "kc8-b4hiblMZ"
      },
      "source": [
        "In addition to indexing, slicing is also supported. While indexing is used to obtain individual characters, slicing allows you to obtain substring:"
      ]
    },
    {
      "cell_type": "code",
      "execution_count": null,
      "metadata": {
        "id": "F5uhEkZxb4Hv"
      },
      "outputs": [],
      "source": [
        " word[0:2]  # characters from position 0 (included) to 2 (excluded)"
      ]
    },
    {
      "cell_type": "code",
      "execution_count": null,
      "metadata": {
        "id": "5fXQRT1Rb61_"
      },
      "outputs": [],
      "source": [
        "word[2:5]  # characters from position 2 (included) to 5 (excluded)"
      ]
    },
    {
      "cell_type": "code",
      "execution_count": null,
      "metadata": {
        "id": "jTqtC6encKwX"
      },
      "outputs": [],
      "source": [
        "text = 'Put several strings within parentheses '+\\\n",
        "        'to have them joined together.'"
      ]
    },
    {
      "cell_type": "code",
      "execution_count": null,
      "metadata": {
        "id": "WdeVRixGcQ2o"
      },
      "outputs": [],
      "source": [
        "text"
      ]
    },
    {
      "cell_type": "markdown",
      "metadata": {
        "id": "I8RMdemlccBf"
      },
      "source": [
        "# **Lists**\n",
        "1.  ordered sequence of information, accessible by index\n",
        "1.  a list is denoted by square brackets, [ ]\n",
        "1.  a list contains usually homogenous elements\n",
        "1.  list elements can be changed so a list is mutable\n"
      ]
    },
    {
      "cell_type": "code",
      "execution_count": null,
      "metadata": {
        "id": "7FyHEIZQoAag"
      },
      "outputs": [],
      "source": [
        "planets = [\"Mercury\", \"Venus\", \"Earth\", \"Mars\", \"Jupiter\", \"Saturn\", \"Uranus\", \"Neptune\"]"
      ]
    },
    {
      "cell_type": "code",
      "execution_count": null,
      "metadata": {
        "id": "JBazsLuroAag"
      },
      "outputs": [],
      "source": [
        "print(\"The first planet is\", planets[0])\n",
        "print(\"The second planet is\", planets[1])\n",
        "print(\"The third planet is\", planets[2])\n"
      ]
    },
    {
      "cell_type": "code",
      "execution_count": null,
      "metadata": {
        "id": "nRvIabrBoAah"
      },
      "outputs": [],
      "source": [
        "planets[3] = \"Red Planet\"\n",
        "print(\"Mars is also known as\", planets[3])"
      ]
    },
    {
      "cell_type": "code",
      "execution_count": null,
      "metadata": {
        "id": "V54fyQ1noAah"
      },
      "outputs": [],
      "source": [
        "number_of_planets = len(planets)\n",
        "print(\"There are\", number_of_planets, \"planets in the solar system.\")"
      ]
    },
    {
      "cell_type": "code",
      "execution_count": null,
      "metadata": {
        "id": "KgPpzZRloAah"
      },
      "outputs": [],
      "source": [
        "planets.append(\"Pluto\")\n",
        "number_of_planets = len(planets)\n",
        "print(\"There are actually\", number_of_planets, \"planets in the solar system.\")"
      ]
    },
    {
      "cell_type": "code",
      "execution_count": null,
      "metadata": {
        "id": "4YJLT8x3oAah"
      },
      "outputs": [],
      "source": [
        "planets.pop()  # Goodbye, Pluto\n",
        "number_of_planets = len(planets)\n",
        "print(\"No, there are definitely\", number_of_planets, \"planets in the solar system.\")"
      ]
    },
    {
      "cell_type": "code",
      "execution_count": null,
      "metadata": {
        "id": "oryI1VYboAah"
      },
      "outputs": [],
      "source": [
        "planets = [\"Mercury\", \"Venus\", \"Earth\", \"Mars\", \"Jupiter\", \"Saturn\", \"Uranus\", \"Neptune\"]"
      ]
    },
    {
      "cell_type": "code",
      "execution_count": null,
      "metadata": {
        "id": "0TFTn5f7oAah"
      },
      "outputs": [],
      "source": [
        "print(\"The first planet is\", planets[0])"
      ]
    },
    {
      "cell_type": "code",
      "execution_count": null,
      "metadata": {
        "id": "bh6jEQk2oAah"
      },
      "outputs": [],
      "source": [
        "print(\"The last planet is\", planets[-1])\n",
        "print(\"The penultimate planet is\", planets[-2])\n"
      ]
    },
    {
      "cell_type": "code",
      "execution_count": null,
      "metadata": {
        "id": "mZeo5vueoAah"
      },
      "outputs": [],
      "source": [
        "jupiter_index = planets.index(\"Jupiter\")\n",
        "print(\"Jupiter is the\", jupiter_index + 1, \"planet from the sun\")"
      ]
    },
    {
      "cell_type": "code",
      "execution_count": null,
      "metadata": {
        "id": "KYlHFZx4oAah"
      },
      "outputs": [],
      "source": [
        "#The following code creates a list that shows the gravitational forces of all eight planets in the solar system, in G:\n",
        "gravity_on_planets = [0.378, 0.907, 1, 0.377, 2.36, 0.916, 0.889, 1.12]\n",
        "\n",
        "#In this list, gravity_on_planets[0] is the gravity on Mercury (0.378 G), gravity_on_planets[1] is the gravity on Venus (0.907 G), and so on"
      ]
    },
    {
      "cell_type": "code",
      "execution_count": null,
      "metadata": {
        "id": "UPsbxfKvoAai"
      },
      "outputs": [],
      "source": [
        "bus_weight = 12650 # in kilograms, on Earth\n",
        "\n",
        "print(\"On Earth, a double-decker bus weighs\", bus_weight, \"kg\")\n",
        "print(\"On Mercury, a double-decker bus weighs\", bus_weight * gravity_on_planets[0], \"kg\")\n"
      ]
    },
    {
      "cell_type": "code",
      "execution_count": null,
      "metadata": {
        "id": "s1P1Ki4AoAai"
      },
      "outputs": [],
      "source": [
        "bus_weight = 12650 # in kilograms, on Earth\n",
        "\n",
        "print(\"On Earth, a double-decker bus weighs\", bus_weight, \"kg\")\n",
        "print(\"The lightest a bus would be in the solar system is\", bus_weight * min(gravity_on_planets), \"kg\")\n",
        "print(\"The heaviest a bus would be in the solar system is\", bus_weight * max(gravity_on_planets), \"kg\")\n"
      ]
    },
    {
      "cell_type": "code",
      "execution_count": null,
      "metadata": {
        "id": "6aBlH-lGoAai"
      },
      "outputs": [],
      "source": [
        "planets = [\"Mercury\", \"Venus\", \"Earth\", \"Mars\", \"Jupiter\", \"Saturn\", \"Uranus\", \"Neptune\"]\n",
        "planets_before_earth = planets[0:2]\n",
        "print(planets_before_earth)"
      ]
    },
    {
      "cell_type": "code",
      "execution_count": null,
      "metadata": {
        "id": "A2vm6ip5oAai"
      },
      "outputs": [],
      "source": [
        "planets_after_earth = planets[3:8]\n",
        "print(planets_after_earth)"
      ]
    },
    {
      "cell_type": "code",
      "execution_count": null,
      "metadata": {
        "id": "GtiNF8W-oAai"
      },
      "outputs": [],
      "source": [
        "planets_after_earth = planets[3:]\n",
        "print(planets_after_earth)"
      ]
    },
    {
      "cell_type": "code",
      "execution_count": null,
      "metadata": {
        "id": "7IzkvJoxoAai"
      },
      "outputs": [],
      "source": [
        "amalthea_group = [\"Metis\", \"Adrastea\", \"Amalthea\", \"Thebe\"]\n",
        "galilean_moons = [\"Io\", \"Europa\", \"Ganymede\", \"Callisto\"]\n",
        "\n",
        "regular_satellite_moons = amalthea_group + galilean_moons\n",
        "print(\"The regular satellite moons of Jupiter are\", regular_satellite_moons)"
      ]
    },
    {
      "cell_type": "code",
      "execution_count": null,
      "metadata": {
        "id": "GgwxPV1coAai"
      },
      "outputs": [],
      "source": [
        "regular_satellite_moons.sort()\n",
        "print(\"The regular satellite moons of Jupiter are\", regular_satellite_moons)"
      ]
    },
    {
      "cell_type": "code",
      "execution_count": null,
      "metadata": {
        "id": "5OMjOEgvoAai"
      },
      "outputs": [],
      "source": [
        "regular_satellite_moons.sort(reverse=True)\n",
        "print(\"The regular satellite moons of Jupiter are\", regular_satellite_moons)"
      ]
    },
    {
      "cell_type": "markdown",
      "metadata": {
        "id": "R6fhpG5pdg-3"
      },
      "source": [
        "# **Tuple**\n",
        "1.  tuple consists of a number of values separated by commas\n",
        "1.  cannot change element values, immutable\n",
        "1.  tuples always enclosed in parenthesis  \n",
        "1.  used to return more than one value from a function\n"
      ]
    },
    {
      "cell_type": "code",
      "execution_count": null,
      "metadata": {
        "id": "Xix0bfvvd5aX"
      },
      "outputs": [],
      "source": [
        "t = 12345, 54321, 'hello!'"
      ]
    },
    {
      "cell_type": "code",
      "execution_count": null,
      "metadata": {
        "id": "KrjTE2ojoAaj"
      },
      "outputs": [],
      "source": [
        "t"
      ]
    },
    {
      "cell_type": "code",
      "execution_count": null,
      "metadata": {
        "id": "uzzkk45jd6c_"
      },
      "outputs": [],
      "source": [
        "t[0]"
      ]
    },
    {
      "cell_type": "code",
      "execution_count": null,
      "metadata": {
        "id": "vt8EPmhld6fj"
      },
      "outputs": [],
      "source": [
        "u = t, (1, 2, 3, 4, 5) # Tuples may be nested:"
      ]
    },
    {
      "cell_type": "code",
      "execution_count": null,
      "metadata": {
        "id": "ZfODh697d6iW"
      },
      "outputs": [],
      "source": [
        "u"
      ]
    },
    {
      "cell_type": "code",
      "execution_count": null,
      "metadata": {
        "id": "sDA1ZSu1eCiv"
      },
      "outputs": [],
      "source": [
        "t[0] = 88888 # Tuples are immutable:"
      ]
    },
    {
      "cell_type": "code",
      "execution_count": null,
      "metadata": {
        "id": "1VLxENW7eCue"
      },
      "outputs": [],
      "source": [
        "x, y, z = t\n",
        "print(x)\n",
        "print(y)\n",
        "print(z)"
      ]
    },
    {
      "cell_type": "markdown",
      "metadata": {
        "id": "Vh9wHyZveI-P"
      },
      "source": [
        "# **Sets**\n",
        "1.  A set is an unordered collection with no duplicate elements\n",
        "1.  set objects also support mathematical operations like union, intersection, difference, and symmetric difference\n"
      ]
    },
    {
      "cell_type": "code",
      "execution_count": null,
      "metadata": {
        "id": "C9jee1kyeVOo"
      },
      "outputs": [],
      "source": [
        "basket = {'apple', 'orange', 'apple', 'pear', 'orange', 'banana'}"
      ]
    },
    {
      "cell_type": "code",
      "execution_count": null,
      "metadata": {
        "id": "i0j0zCfUoAaj"
      },
      "outputs": [],
      "source": [
        "basket_l = ['apple', 'orange', 'apple', 'pear', 'orange', 'banana']"
      ]
    },
    {
      "cell_type": "code",
      "execution_count": null,
      "metadata": {
        "id": "ZTvM50MbeXqP"
      },
      "outputs": [],
      "source": [
        "print(basket)# show that duplicates have been removed"
      ]
    },
    {
      "cell_type": "code",
      "execution_count": null,
      "metadata": {
        "id": "NyNCo1sTeXw8"
      },
      "outputs": [],
      "source": [
        "'orange' in basket                 # fast membership testing"
      ]
    },
    {
      "cell_type": "code",
      "execution_count": null,
      "metadata": {
        "id": "v7c1GMO1eXzI"
      },
      "outputs": [],
      "source": [
        "'crabgrass' in basket"
      ]
    },
    {
      "cell_type": "code",
      "execution_count": null,
      "metadata": {
        "id": "6nGkzukqeX1W"
      },
      "outputs": [],
      "source": [
        "a = set('abracadabra')\n",
        "b = set('alacazam')"
      ]
    },
    {
      "cell_type": "code",
      "execution_count": null,
      "metadata": {
        "id": "i8bFAaDnei9H"
      },
      "outputs": [],
      "source": [
        "a - b"
      ]
    },
    {
      "cell_type": "markdown",
      "metadata": {
        "id": "9r0QoM-ceoCN"
      },
      "source": [
        "# **Dictionary**\n",
        "1.  dictionary is a set of key:value pairs\n",
        "1.  dictionaries are indexed by keys, which can be any immutable type\n",
        "1.  dictionary stores a value with some key and extracts the value given the key"
      ]
    },
    {
      "cell_type": "code",
      "execution_count": null,
      "metadata": {
        "id": "toSCsARTe2ar"
      },
      "outputs": [],
      "source": [
        "telephone = {'jack': 4098, 'sape': 4139,'alpha':1099,'beta':1000}\n",
        "telephone"
      ]
    },
    {
      "cell_type": "code",
      "execution_count": null,
      "metadata": {
        "id": "mMEJKK86fDxy"
      },
      "outputs": [],
      "source": [
        "telephone['jack']"
      ]
    },
    {
      "cell_type": "code",
      "execution_count": null,
      "metadata": {
        "id": "tRW2pQcEfHom"
      },
      "outputs": [],
      "source": [
        "telephone['king'] = 4127\n",
        "telephone"
      ]
    },
    {
      "cell_type": "code",
      "execution_count": null,
      "metadata": {
        "id": "liQ3l3lJfJvd"
      },
      "outputs": [],
      "source": [
        "del telephone['sape']"
      ]
    },
    {
      "cell_type": "code",
      "execution_count": null,
      "metadata": {
        "id": "prmpSrDdoAak"
      },
      "outputs": [],
      "source": [
        "telephone"
      ]
    },
    {
      "cell_type": "code",
      "execution_count": null,
      "metadata": {
        "id": "gwKaA1oSfNkL"
      },
      "outputs": [],
      "source": [
        "'queen' in telephone"
      ]
    },
    {
      "cell_type": "markdown",
      "metadata": {
        "id": "oDGzb6zBoAal"
      },
      "source": [
        "## While and For Loops"
      ]
    },
    {
      "cell_type": "code",
      "execution_count": null,
      "metadata": {
        "id": "l1w4u1MdoAal"
      },
      "outputs": [],
      "source": [
        "user_input = ''\n",
        "\n",
        "while user_input.lower() != 'done':\n",
        "    user_input = input('Enter a new value, or done when done')"
      ]
    },
    {
      "cell_type": "code",
      "execution_count": null,
      "metadata": {
        "id": "uW884RK-oAal"
      },
      "outputs": [],
      "source": [
        "# Create the variable for user input\n",
        "user_input = ''\n",
        "# Create the list to store the values\n",
        "inputs = []\n",
        "\n",
        "# The while loop\n",
        "while user_input.lower() != 'done':\n",
        "    # Check if there's a value in user_input\n",
        "    if user_input:\n",
        "        # Store the value in the list\n",
        "        inputs.append(user_input)\n",
        "    # Prompt for a new value\n",
        "    user_input = input('Enter a new value, or done when done')"
      ]
    },
    {
      "cell_type": "code",
      "execution_count": null,
      "metadata": {
        "id": "ru9F4mvMoAal"
      },
      "outputs": [],
      "source": [
        "countdown = [4, 3, 2, 1, 0]\n",
        "for number in countdown:\n",
        "    print(number)\n",
        "print(\"Blast off!! 🚀\")"
      ]
    },
    {
      "cell_type": "code",
      "execution_count": null,
      "metadata": {
        "id": "chR1fLfvoAal"
      },
      "outputs": [],
      "source": [
        "from time import sleep\n",
        "\n",
        "countdown = [4, 3, 2, 1, 0]\n",
        "\n",
        "for number in countdown:\n",
        "    print(number)\n",
        "    sleep(1)  # Wait 1 second\n",
        "print(\"Blast off!! 🚀\")"
      ]
    },
    {
      "cell_type": "markdown",
      "metadata": {
        "id": "yRPlTSNqjh-k"
      },
      "source": [
        "### To iterate over a sequence of numbers, the built-in function range() comes in handy."
      ]
    },
    {
      "cell_type": "code",
      "execution_count": null,
      "metadata": {
        "id": "hBKp01cOji_V"
      },
      "outputs": [],
      "source": [
        "for i in range(5):\n",
        "    print(i,end=',')"
      ]
    },
    {
      "cell_type": "code",
      "execution_count": null,
      "metadata": {
        "id": "aUl6XPMwjltB"
      },
      "outputs": [],
      "source": [
        "for i in range(5,10):\n",
        "    print(i,end=',')"
      ]
    },
    {
      "cell_type": "code",
      "execution_count": null,
      "metadata": {
        "id": "BSzGHOtkjnlS"
      },
      "outputs": [],
      "source": [
        "for i in range(5,10,2):\n",
        "    print(i,end=',')"
      ]
    },
    {
      "cell_type": "markdown",
      "metadata": {
        "id": "uXkT38fRj36X"
      },
      "source": [
        "# **break  and continue Statements**\n",
        "1.  break statement breaks out of innermost enclosing for or while loop.\n",
        "1.  continue statement continues with the next iteration of the loop skipping remaining statements.\n"
      ]
    },
    {
      "cell_type": "code",
      "execution_count": null,
      "metadata": {
        "id": "Yt7XFg4kkLum"
      },
      "outputs": [],
      "source": [
        "for i in range(50):\n",
        "    if i==4:\n",
        "        break\n",
        "    print(i)"
      ]
    },
    {
      "cell_type": "code",
      "execution_count": null,
      "metadata": {
        "id": "V5rvWy1vkTQ2"
      },
      "outputs": [],
      "source": [
        "for i in range(5):\n",
        "    if i==2:\n",
        "        continue\n",
        "    print(i)"
      ]
    },
    {
      "cell_type": "markdown",
      "metadata": {
        "id": "0abkz1sgkf-W"
      },
      "source": [
        "# **Write and call/invoke a function**\n",
        "If its find that  the same bits of code is reused over and over, you can create your own function and call that instead of         repeating the same code."
      ]
    },
    {
      "cell_type": "code",
      "execution_count": null,
      "metadata": {
        "id": "60yjGPZVoAam"
      },
      "outputs": [],
      "source": [
        "def rocket_parts():\n",
        "    print(\"payload, propellant, structure\")"
      ]
    },
    {
      "cell_type": "code",
      "execution_count": null,
      "metadata": {
        "id": "w1YazPbloAam"
      },
      "outputs": [],
      "source": [
        "output = rocket_parts()\n",
        "output is None\n"
      ]
    },
    {
      "cell_type": "code",
      "execution_count": null,
      "metadata": {
        "id": "IBOfmGxboAam"
      },
      "outputs": [],
      "source": [
        "def distance_from_earth(destination):\n",
        "    if destination == \"Moon\":\n",
        "        return \"238,855\"\n",
        "    else:\n",
        "        return \"Unable to compute to that destination\""
      ]
    },
    {
      "cell_type": "code",
      "execution_count": null,
      "metadata": {
        "id": "TGGbfFnWoAam"
      },
      "outputs": [],
      "source": [
        "distance_from_earth()"
      ]
    },
    {
      "cell_type": "code",
      "execution_count": null,
      "metadata": {
        "id": "ZaDn1ZawoAam"
      },
      "outputs": [],
      "source": [
        "distance_from_earth(\"Moon\")"
      ]
    },
    {
      "cell_type": "code",
      "execution_count": null,
      "metadata": {
        "id": "S1ByxNo-oAam"
      },
      "outputs": [],
      "source": [
        "def days_to_complete(distance, speed):\n",
        "    hours = distance/speed\n",
        "    return hours/24"
      ]
    },
    {
      "cell_type": "code",
      "execution_count": null,
      "metadata": {
        "id": "-_ZLSmy_oAan"
      },
      "outputs": [],
      "source": [
        "days_to_complete(238855, 90)"
      ]
    },
    {
      "cell_type": "markdown",
      "metadata": {
        "id": "diw9mvZWldaG"
      },
      "source": [
        "# **Default Value Argument**"
      ]
    },
    {
      "cell_type": "code",
      "execution_count": null,
      "metadata": {
        "id": "5BdjDTkQlfv-"
      },
      "outputs": [],
      "source": [
        "def calc_intrest(principal,rates=5,duration=5):\n",
        "    intrest=(principal*rates*duration)/100\n",
        "    amount=intrest+principal\n",
        "    print('Principal Amount=',principal)\n",
        "    print('Rate=',rates)\n",
        "    print('Duration=',duration)\n",
        "    print('Total Amount=',amount)"
      ]
    },
    {
      "cell_type": "code",
      "execution_count": null,
      "metadata": {
        "id": "4gLAf-_eljel"
      },
      "outputs": [],
      "source": [
        "calc_intrest(10)"
      ]
    },
    {
      "cell_type": "code",
      "execution_count": null,
      "metadata": {
        "id": "FSAk-R1jllj_"
      },
      "outputs": [],
      "source": [
        "calc_intrest(10,rates=10)"
      ]
    },
    {
      "cell_type": "code",
      "execution_count": null,
      "metadata": {
        "id": "dq0sdL8Llp8a"
      },
      "outputs": [],
      "source": [
        "calc_intrest(10,rates=10,duration=20)"
      ]
    },
    {
      "cell_type": "markdown",
      "metadata": {
        "id": "BE0PSUtllsM-"
      },
      "source": [
        "# Reading File"
      ]
    },
    {
      "cell_type": "code",
      "execution_count": null,
      "metadata": {
        "id": "mGkJTRPrlu9N"
      },
      "outputs": [],
      "source": [
        "f = open(r'd:\\work.txt','r')\n",
        "\n",
        "lines = f.read() # Entire file is read\n",
        "print(lines)\n",
        "f.close()"
      ]
    },
    {
      "cell_type": "code",
      "execution_count": null,
      "metadata": {
        "id": "PrXcPZjll0VG"
      },
      "outputs": [],
      "source": [
        "f = open(r'd:\\work.txt','r')\n",
        "for line in f:\n",
        "    print(line)\n",
        "f.close()"
      ]
    },
    {
      "cell_type": "code",
      "execution_count": null,
      "metadata": {
        "id": "Por28t4Xl3Mt"
      },
      "outputs": [],
      "source": [
        "with open(r'd:\\work.txt','r')as f:\n",
        "    for line in f:\n",
        "        print(line,end='')"
      ]
    },
    {
      "cell_type": "markdown",
      "metadata": {
        "id": "sktW7ZQxl5eX"
      },
      "source": [
        "# Writing to file"
      ]
    },
    {
      "cell_type": "code",
      "execution_count": null,
      "metadata": {
        "id": "NLfKADh0l7-V"
      },
      "outputs": [],
      "source": [
        "value = ('the answer is ', 42)\n",
        "with open(r'd:\\workfile2.txt','w') as f:\n",
        "    s=str(value)\n",
        "    f.write(s)"
      ]
    },
    {
      "cell_type": "markdown",
      "metadata": {
        "id": "a09YWmmzoAao"
      },
      "source": [
        "## Thank You"
      ]
    },
    {
      "cell_type": "markdown",
      "metadata": {
        "id": "Bom1EYSzoAao"
      },
      "source": []
    }
  ],
  "metadata": {
    "colab": {
      "provenance": [],
      "toc_visible": true
    },
    "kernelspec": {
      "display_name": "sparkfun",
      "language": "python",
      "name": "python3"
    },
    "language_info": {
      "codemirror_mode": {
        "name": "ipython",
        "version": 3
      },
      "file_extension": ".py",
      "mimetype": "text/x-python",
      "name": "python",
      "nbconvert_exporter": "python",
      "pygments_lexer": "ipython3",
      "version": "3.8.5"
    },
    "vscode": {
      "interpreter": {
        "hash": "5cb7d9663dae2c5b767ba4220a04b14626d470bcea4df1ab6ee17d48fb4861c1"
      }
    }
  },
  "nbformat": 4,
  "nbformat_minor": 0
}